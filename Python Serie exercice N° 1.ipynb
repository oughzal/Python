{
 "cells": [
  {
   "cell_type": "markdown",
   "id": "fd3b3e9e",
   "metadata": {},
   "source": [
    "## Exercice 1\n",
    "Écrire un programme qui demande à l’utilisateur deux entiers A et B, qui échange le contenu des variables A et B, puis affiche A et B"
   ]
  },
  {
   "cell_type": "code",
   "execution_count": null,
   "id": "d70f493c",
   "metadata": {},
   "outputs": [],
   "source": []
  },
  {
   "cell_type": "markdown",
   "id": "b349f9f7",
   "metadata": {},
   "source": [
    "## Exercice 2\n",
    "Écrire un programme qui lit un nombre réel $x$, puis calcule et affiche $f(x)$ tel que : \n",
    "$$ f(x)=\\frac{x^2 -2(x+4)}{x^3} $$"
   ]
  },
  {
   "cell_type": "code",
   "execution_count": null,
   "id": "e7c7ea25",
   "metadata": {},
   "outputs": [],
   "source": []
  },
  {
   "cell_type": "markdown",
   "id": "ec04a904",
   "metadata": {},
   "source": [
    "## Exercice 3\n",
    "Les produits vendus dans un magasin sont classés en trois catégories de point de vue TVA :\n",
    "* A=7\n",
    "* B=20\n",
    "*  C=25\n",
    "\n",
    "Écrire un programme qui calcule le prix TTC d’un produit connaissant sont prix HT et sa catégorie."
   ]
  },
  {
   "cell_type": "code",
   "execution_count": null,
   "id": "ba2a4699",
   "metadata": {},
   "outputs": [],
   "source": []
  },
  {
   "cell_type": "markdown",
   "id": "bc913064",
   "metadata": {},
   "source": [
    "## Exercice 4\n",
    "Écrire un algorithme permettant de résoudre une équation du second degré : \n",
    "$$ax^2 +bx +c = 0$$"
   ]
  },
  {
   "cell_type": "code",
   "execution_count": null,
   "id": "c5566a75",
   "metadata": {},
   "outputs": [],
   "source": []
  },
  {
   "cell_type": "markdown",
   "id": "22e5f416",
   "metadata": {},
   "source": [
    "## Exercice 5\n",
    "Écrire un programme calculateur permettant la saisie de deux entiers et une opération ($+, -, /, *$) et affichant le résultat."
   ]
  },
  {
   "cell_type": "code",
   "execution_count": null,
   "id": "1ab2e660",
   "metadata": {},
   "outputs": [],
   "source": []
  },
  {
   "cell_type": "markdown",
   "id": "9c71e59a",
   "metadata": {},
   "source": [
    "## Exercice 6\n",
    "Écrire un programme qui détermine si une année saisie au clavier est bissextile. Une année bissextile :\n",
    "\n",
    "* S'elle est divisible par 1000 \n",
    "* ou S'elle est divisible par 4 et elle n'est pas divisible par 100"
   ]
  },
  {
   "cell_type": "code",
   "execution_count": null,
   "id": "f737d43a",
   "metadata": {},
   "outputs": [],
   "source": []
  },
  {
   "cell_type": "markdown",
   "id": "1878819f",
   "metadata": {},
   "source": [
    "## Exercice 7\n",
    "Écrire un programme  qui  lit trois entiers A, B et C, les permute de façon à les classer par ordre croissant puis affiche le résultat."
   ]
  },
  {
   "cell_type": "code",
   "execution_count": null,
   "id": "edf9edfa",
   "metadata": {},
   "outputs": [],
   "source": []
  },
  {
   "cell_type": "markdown",
   "id": "9840994c",
   "metadata": {},
   "source": [
    "## Exercice 8\n",
    "Écrire un programme qui demande à l’utilisateur l’âge d’un enfant, puis l’informe de sa catégorie :\n",
    "\n",
    "* **Poussin** : de 6ans à 7ans\n",
    "* **Pupille** : de 8ans à 9ans\n",
    "* **Minime** : de 10ans à 12ans\n",
    "* **Cadet** : après 12ans\n"
   ]
  },
  {
   "cell_type": "code",
   "execution_count": null,
   "id": "846e1967",
   "metadata": {},
   "outputs": [],
   "source": []
  },
  {
   "cell_type": "markdown",
   "id": "66cc6a31",
   "metadata": {},
   "source": [
    "## Exercice 9 \n",
    "Écrire un programme qui demande deux nombres à l’utilisateur et l’informe ensuite si leur produit est négatif ou positif "
   ]
  },
  {
   "cell_type": "code",
   "execution_count": null,
   "id": "19442da5",
   "metadata": {},
   "outputs": [],
   "source": []
  },
  {
   "cell_type": "markdown",
   "id": "b0a2dce1",
   "metadata": {},
   "source": [
    "## Exercice 10\n",
    "Écrire un programme qui lit le jour J, le mois M et l'année A, puis affiche si la date J/M/A est une date valide"
   ]
  },
  {
   "cell_type": "code",
   "execution_count": null,
   "id": "df7283c0",
   "metadata": {},
   "outputs": [],
   "source": []
  },
  {
   "attachments": {},
   "cell_type": "markdown",
   "id": "08742208",
   "metadata": {},
   "source": [
    "## Exercice 11\n",
    "Ecrire un programme qui demande à l'utilisateur la température. Puis déterminer l'état de l'eau à cette température :\n",
    "* **T <= 0** : Solide\n",
    "* **0< T < 100** : Liquide\n",
    "* **T > 100** : Gaz "
   ]
  },
  {
   "cell_type": "code",
   "execution_count": null,
   "id": "ed7f263d",
   "metadata": {},
   "outputs": [],
   "source": []
  },
  {
   "attachments": {
    "image.png": {
     "image/png": "[encoded data removed]"
    }
   },
   "cell_type": "markdown",
   "id": "0cff341d",
   "metadata": {},
   "source": [
    "## Exercice 12\n",
    "Ecrire un programme qui affiche la mention d’un note saisie au clavier\n",
    "Redoublant : \n",
    "[0 10[\tPassable : [10 12[ \t Assez-bien : [12 14[ \n",
    "Bien : [14 16[ \tTrès Bien : [16 20] \tErreur : autres note\n",
    "![image.png](attachment:image.png)"
   ]
  }
 ],
 "metadata": {
  "kernelspec": {
   "display_name": "Python 3",
   "language": "python",
   "name": "python3"
  },
  "language_info": {
   "codemirror_mode": {
    "name": "ipython",
    "version": 3
   },
   "file_extension": ".py",
   "mimetype": "text/x-python",
   "name": "python",
   "nbconvert_exporter": "python",
   "pygments_lexer": "ipython3",
   "version": "3.6.8"
  }
 },
 "nbformat": 4,
 "nbformat_minor": 5
}
